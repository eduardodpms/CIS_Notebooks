{
  "nbformat": 4,
  "nbformat_minor": 0,
  "metadata": {
    "colab": {
      "provenance": [],
      "authorship_tag": "ABX9TyOxsPbcVZTljY0teYjtp7aw",
      "include_colab_link": true
    },
    "kernelspec": {
      "name": "python3",
      "display_name": "Python 3"
    },
    "language_info": {
      "name": "python"
    }
  },
  "cells": [
    {
      "cell_type": "markdown",
      "metadata": {
        "id": "view-in-github",
        "colab_type": "text"
      },
      "source": [
        "<a href=\"https://colab.research.google.com/github/eduardodpms/CIS_Notebooks/blob/main/Trainee/Per%C3%ADodo%201%20(Classifica%C3%A7%C3%A3o%20e%20Regress%C3%A3o)/Classifica%C3%A7%C3%A3o/CIS_Trainee_Cla.ipynb\" target=\"_parent\"><img src=\"https://colab.research.google.com/assets/colab-badge.svg\" alt=\"Open In Colab\"/></a>"
      ]
    },
    {
      "cell_type": "markdown",
      "source": [
        "# ***Trainee CIS (1° Período) - Classificação***"
      ],
      "metadata": {
        "id": "pURhB-O-6mDQ"
      }
    },
    {
      "cell_type": "markdown",
      "source": [
        "Informações do aluno:\n",
        "\n",
        "- **Nome**: Eduardo de Pina Moreira Santos\n",
        "- **Matrícula**: 231034494\n",
        "- **Curso**: Engenharia de Software (FCTE)\n",
        "- **E-mail**: eduardopms19@hotmail.com"
      ],
      "metadata": {
        "id": "Vb6gnTCH6pbI"
      }
    },
    {
      "cell_type": "markdown",
      "source": [
        "## **1. Introdução**"
      ],
      "metadata": {
        "id": "k_CZiXpC6r0a"
      }
    },
    {
      "cell_type": "markdown",
      "source": [
        "Este trabalho corresponde ao desenvolvimento da segunda atividade do 1° período do processo de *Trainee* do capítulo estudantil do [*Computational Intelligence Society*](https://cis.ieee.org) do *IEEE*, na [Universidade de Brasília](https://www.unb.br). Demais informações do *Trainee* estão disponíveis no [*GitHub*](https://github.com/UnB-CIS/Trainee/tree/main). O foco dessa atividade é a elaboração de dois modelos de classificação simples, utilizando bibliotecas do [*Python*](https://www.python.org) como [*Pandas*](https://pandas.pydata.org), [*Matplotlib*](https://matplotlib.org), [*seaborn*](https://seaborn.pydata.org), [*scikit-learn*](https://scikit-learn.org) e [*NumPy*](https://numpy.org). O conjunto de dados de treino é o *Adult Census Income*⁽¹⁾, organizado pela [*UCI*](https://archive.ics.uci.edu) e disponível no [*Kaggle*](https://www.kaggle.com).\n",
        "\n",
        "O *dataset* traz 32.561 tuplas, as quais relacionam 14 diferentes atributos sociais de adultos à sua renda anual (dividida em **<=50K** e **>50K**), de acordo com um Censo americano realizado em 1994. O objetivo será o desenvolvimento de dois modelos de árvore de classificação distintos, o *Decision Tree* e o *Random Forest*, a fim de testar as habilidades do aluno no que tange à abordagem desses modelos."
      ],
      "metadata": {
        "id": "xfZ53vsLAaDo"
      }
    },
    {
      "cell_type": "markdown",
      "source": [
        "## **2. Análise, Imputação e Codificação do *Dataset***"
      ],
      "metadata": {
        "id": "kmQjftch7ENN"
      }
    },
    {
      "cell_type": "markdown",
      "source": [
        "### 2.1. Importação das bibliotecas"
      ],
      "metadata": {
        "id": "LlMhrEtB9gS6"
      }
    },
    {
      "cell_type": "code",
      "execution_count": null,
      "metadata": {
        "id": "5N4E33WGl2e1"
      },
      "outputs": [],
      "source": [
        "# Importação das bibliotecas de visualização e manipulação dos dados\n",
        "import pandas as pd # Manipulação de arquivos\n",
        "import matplotlib.pyplot as plt # Geração de figuras\n",
        "import seaborn as sns # Visualização estatística\n",
        "import numpy as np # Manipulação de arrays"
      ]
    },
    {
      "cell_type": "code",
      "source": [
        "# Importanção das bibliotecas gerais para os dois modelos\n",
        "from sklearn.preprocessing import LabelEncoder # Pré-Processamento de dados\n",
        "from sklearn.model_selection import GridSearchCV, train_test_split # Classes de otimização e de splitting\n",
        "from sklearn.metrics import confusion_matrix, ConfusionMatrixDisplay # Matriz de confusão"
      ],
      "metadata": {
        "id": "z865f5RJ93W-"
      },
      "execution_count": null,
      "outputs": []
    },
    {
      "cell_type": "markdown",
      "source": [
        "### 2.2. Importação do *dataset* e análise inicial"
      ],
      "metadata": {
        "id": "krUq5H0391yL"
      }
    },
    {
      "cell_type": "code",
      "source": [
        "# Importação e visualização do dataset\n",
        "data = pd.read_csv(filepath_or_buffer='adult.csv') # Tranfere o conjunto de dados para um Dataframe, com o auxílio da biblioteca Pandas\n",
        "\n",
        "print(f'{data.to_string(max_rows=16)}') # Apresenta as n primeiras e n últimas linhas da relação"
      ],
      "metadata": {
        "colab": {
          "base_uri": "https://localhost:8080/"
        },
        "id": "Mo0GbZC6l9dU",
        "outputId": "e94c8a31-abca-4fdc-af96-a77f9cf460d4"
      },
      "execution_count": null,
      "outputs": [
        {
          "output_type": "stream",
          "name": "stdout",
          "text": [
            "       age  workclass  fnlwgt     education  education.num      marital.status         occupation    relationship                race     sex  capital.gain  capital.loss  hours.per.week native.country income\n",
            "0       90          ?   77053       HS-grad              9             Widowed                  ?   Not-in-family               White  Female             0          4356            40.0  United-States  <=50K\n",
            "1       82    Private  132870       HS-grad              9             Widowed    Exec-managerial   Not-in-family               White  Female             0          4356            18.0  United-States  <=50K\n",
            "2       66          ?  186061  Some-college             10             Widowed                  ?       Unmarried               Black  Female             0          4356            40.0  United-States  <=50K\n",
            "3       54    Private  140359       7th-8th              4            Divorced  Machine-op-inspct       Unmarried               White  Female             0          3900            40.0  United-States  <=50K\n",
            "4       41    Private  264663  Some-college             10           Separated     Prof-specialty       Own-child               White  Female             0          3900            40.0  United-States  <=50K\n",
            "5       34    Private  216864       HS-grad              9            Divorced      Other-service       Unmarried               White  Female             0          3770            45.0  United-States  <=50K\n",
            "6       38    Private  150601          10th              6           Separated       Adm-clerical       Unmarried               White    Male             0          3770            40.0  United-States  <=50K\n",
            "7       74  State-gov   88638     Doctorate             16       Never-married     Prof-specialty  Other-relative               White  Female             0          3683            20.0  United-States   >50K\n",
            "...    ...        ...     ...           ...            ...                 ...                ...             ...                 ...     ...           ...           ...             ...            ...    ...\n",
            "24910   22    Private  170800     Assoc-voc             11       Never-married      Other-service       Own-child               White  Female             0             0            12.0  United-States  <=50K\n",
            "24911   44    Private  152150    Assoc-acdm             12           Separated    Exec-managerial   Not-in-family               White    Male             0             0            40.0  United-States  <=50K\n",
            "24912   44    Private  159580          12th              8            Divorced   Transport-moving   Not-in-family               White  Female             0             0            40.0  United-States  <=50K\n",
            "24913   61    Private  477209       7th-8th              4  Married-civ-spouse    Farming-fishing         Husband               White    Male             0             0            54.0  United-States  <=50K\n",
            "24914   32    Private   70985     Assoc-voc             11  Married-civ-spouse  Machine-op-inspct         Husband               White    Male             0             0            40.0  United-States  <=50K\n",
            "24915   35    Private  241998     Bachelors             13  Married-civ-spouse    Exec-managerial         Husband               White    Male             0             0            45.0  United-States   >50K\n",
            "24916   28    Private  249541  Some-college             10  Married-civ-spouse       Craft-repair         Husband               White    Male             0             0            40.0  United-States  <=50K\n",
            "24917   57    Private  135339     Bachelors             13  Married-civ-spouse    Exec-managerial         Husband  Asian-Pac-Islander    Male             0             0             NaN            NaN    NaN\n"
          ]
        }
      ]
    },
    {
      "cell_type": "code",
      "source": [
        "data.info() # Distribuição dos elementos no dataset"
      ],
      "metadata": {
        "colab": {
          "base_uri": "https://localhost:8080/"
        },
        "id": "iCBmGObPm8G0",
        "outputId": "9a38be59-0517-4727-dd7b-2ed1695f1062"
      },
      "execution_count": null,
      "outputs": [
        {
          "output_type": "stream",
          "name": "stdout",
          "text": [
            "<class 'pandas.core.frame.DataFrame'>\n",
            "RangeIndex: 24918 entries, 0 to 24917\n",
            "Data columns (total 15 columns):\n",
            " #   Column          Non-Null Count  Dtype  \n",
            "---  ------          --------------  -----  \n",
            " 0   age             24918 non-null  int64  \n",
            " 1   workclass       24918 non-null  object \n",
            " 2   fnlwgt          24918 non-null  int64  \n",
            " 3   education       24918 non-null  object \n",
            " 4   education.num   24918 non-null  int64  \n",
            " 5   marital.status  24918 non-null  object \n",
            " 6   occupation      24918 non-null  object \n",
            " 7   relationship    24918 non-null  object \n",
            " 8   race            24918 non-null  object \n",
            " 9   sex             24918 non-null  object \n",
            " 10  capital.gain    24918 non-null  int64  \n",
            " 11  capital.loss    24918 non-null  int64  \n",
            " 12  hours.per.week  24917 non-null  float64\n",
            " 13  native.country  24917 non-null  object \n",
            " 14  income          24917 non-null  object \n",
            "dtypes: float64(1), int64(5), object(9)\n",
            "memory usage: 2.9+ MB\n"
          ]
        }
      ]
    },
    {
      "cell_type": "markdown",
      "source": [
        "A observação da contagem de elementos nulos, com o método *info* na célula anterior, aponta para a inexistência dos mesmos em todo o *dataset*. Entretanto, a prévia da relação apresentada pelo método *to_string* mostra que há dados faltantes, os quais foram substituídos por \"?\". Isso significa que será necessário algum tipo de imputação, isto é, alguma forma de lidar com essa carência antes do treinamento."
      ],
      "metadata": {
        "id": "qfGqdSPPE-6w"
      }
    },
    {
      "cell_type": "markdown",
      "source": [
        "### 2.3. Imputação pela moda"
      ],
      "metadata": {
        "id": "_o5rvIQZ-JOR"
      }
    },
    {
      "cell_type": "markdown",
      "source": [
        "Um dos tipos mais comuns de imputação é a pela moda, a qual consiste em substituir os dados faltantes ou *outliers* expressivos pelo elemento que corresponde à moda daquele atributo. É uma técnica comum no tratamento de conjuntos de dados categóricos, isto é, dados cujo valor não é numérico, o que significa que sua média não pode ser calculada para a imputação."
      ],
      "metadata": {
        "id": "GbX5NgavHhCK"
      }
    },
    {
      "cell_type": "code",
      "source": [
        "data_new = data.copy(deep = True) # Salvando o Dataframe que sofrerá tratamento em \"data_new\"\n",
        "\n",
        "data_new.replace('?', np.nan, inplace=True) # Substituindo \"?\" por \"NaN\""
      ],
      "metadata": {
        "id": "nE3sFFSEqEs_"
      },
      "execution_count": null,
      "outputs": []
    },
    {
      "cell_type": "code",
      "source": [
        "# Imputação pela Moda em cada dado faltante\n",
        "for col in data_new.columns:\n",
        "  mode_val = data[col].mode()[0] # Separa a moda do atributo\n",
        "  data_new[col] = data_new[col].fillna(mode_val) # Substitui \"NaN\" pela moda"
      ],
      "metadata": {
        "id": "HLmkBNeaqRzb"
      },
      "execution_count": null,
      "outputs": []
    },
    {
      "cell_type": "code",
      "source": [
        "print(f'{data_new.to_string(max_rows=10)}') # Apresenta as n primeiras e n últimas linhas da relação"
      ],
      "metadata": {
        "colab": {
          "base_uri": "https://localhost:8080/"
        },
        "id": "2WK6dXI6pnUi",
        "outputId": "fddfb325-eabf-4352-9c6a-d34a0a527170"
      },
      "execution_count": null,
      "outputs": [
        {
          "output_type": "stream",
          "name": "stdout",
          "text": [
            "       age workclass  fnlwgt     education  education.num      marital.status         occupation   relationship                race     sex  capital.gain  capital.loss  hours.per.week native.country income\n",
            "0       90   Private   77053       HS-grad              9             Widowed     Prof-specialty  Not-in-family               White  Female             0          4356            40.0  United-States  <=50K\n",
            "1       82   Private  132870       HS-grad              9             Widowed    Exec-managerial  Not-in-family               White  Female             0          4356            18.0  United-States  <=50K\n",
            "2       66   Private  186061  Some-college             10             Widowed     Prof-specialty      Unmarried               Black  Female             0          4356            40.0  United-States  <=50K\n",
            "3       54   Private  140359       7th-8th              4            Divorced  Machine-op-inspct      Unmarried               White  Female             0          3900            40.0  United-States  <=50K\n",
            "4       41   Private  264663  Some-college             10           Separated     Prof-specialty      Own-child               White  Female             0          3900            40.0  United-States  <=50K\n",
            "...    ...       ...     ...           ...            ...                 ...                ...            ...                 ...     ...           ...           ...             ...            ...    ...\n",
            "24913   61   Private  477209       7th-8th              4  Married-civ-spouse    Farming-fishing        Husband               White    Male             0             0            54.0  United-States  <=50K\n",
            "24914   32   Private   70985     Assoc-voc             11  Married-civ-spouse  Machine-op-inspct        Husband               White    Male             0             0            40.0  United-States  <=50K\n",
            "24915   35   Private  241998     Bachelors             13  Married-civ-spouse    Exec-managerial        Husband               White    Male             0             0            45.0  United-States   >50K\n",
            "24916   28   Private  249541  Some-college             10  Married-civ-spouse       Craft-repair        Husband               White    Male             0             0            40.0  United-States  <=50K\n",
            "24917   57   Private  135339     Bachelors             13  Married-civ-spouse    Exec-managerial        Husband  Asian-Pac-Islander    Male             0             0            40.0  United-States  <=50K\n"
          ]
        }
      ]
    },
    {
      "cell_type": "markdown",
      "source": [
        "Observa-se, na prévia, que alguns dos dados \"?\" foram substituídos pela moda do atributo."
      ],
      "metadata": {
        "id": "IkcSg32RHC6W"
      }
    },
    {
      "cell_type": "markdown",
      "source": [
        "### 2.4. Codificação dos atributos"
      ],
      "metadata": {
        "id": "xP5Kv-vG-RnM"
      }
    },
    {
      "cell_type": "markdown",
      "source": [
        "A codificação, ou *encoding*, é uma etapa essencial no que tange à preparação dos atributos categóricos. De forma resumida, nela, as variáveis não numéricas são substituídas por números sem um padrão específico, a fim de que o modelo seja capaz de \"compreender\" os dados iguais ou semelhantes de forma eficiente, preservando as características e propriedades iniciais do atributo."
      ],
      "metadata": {
        "id": "DEN_9ugNJURT"
      }
    },
    {
      "cell_type": "code",
      "source": [
        "# Codificação dos atributos categóricos\n",
        "\n",
        "# Separando os labels dos atributos categóricos\n",
        "cat_cols = data_new.select_dtypes(include='object').columns\n",
        "\n",
        "# Codificando cada atributo individualmente\n",
        "for col in cat_cols:\n",
        "    le = LabelEncoder() # Chama o método de codificação\n",
        "    data_new[col] = le.fit_transform(data_new[col]) # Aplica a codificação no atributo"
      ],
      "metadata": {
        "id": "7kDglG1-wvPn"
      },
      "execution_count": null,
      "outputs": []
    },
    {
      "cell_type": "code",
      "source": [
        "print(f'{data_new.to_string(max_rows=10)}') # Apresenta as n primeiras e n últimas linhas da relação"
      ],
      "metadata": {
        "colab": {
          "base_uri": "https://localhost:8080/"
        },
        "id": "4tJkG5wSyDZ7",
        "outputId": "230b2b92-07a4-4dcb-a77c-0e1779b9da94"
      },
      "execution_count": null,
      "outputs": [
        {
          "output_type": "stream",
          "name": "stdout",
          "text": [
            "       age  workclass  fnlwgt  education  education.num  marital.status  occupation  relationship  race  sex  capital.gain  capital.loss  hours.per.week  native.country  income\n",
            "0       90          3   77053         11              9               6           9             1     4    0             0          4356            40.0              38       0\n",
            "1       82          3  132870         11              9               6           3             1     4    0             0          4356            18.0              38       0\n",
            "2       66          3  186061         15             10               6           9             4     2    0             0          4356            40.0              38       0\n",
            "3       54          3  140359          5              4               0           6             4     4    0             0          3900            40.0              38       0\n",
            "4       41          3  264663         15             10               5           9             3     4    0             0          3900            40.0              38       0\n",
            "...    ...        ...     ...        ...            ...             ...         ...           ...   ...  ...           ...           ...             ...             ...     ...\n",
            "24913   61          3  477209          5              4               2           4             0     4    1             0             0            54.0              38       0\n",
            "24914   32          3   70985          8             11               2           6             0     4    1             0             0            40.0              38       0\n",
            "24915   35          3  241998          9             13               2           3             0     4    1             0             0            45.0              38       1\n",
            "24916   28          3  249541         15             10               2           2             0     4    1             0             0            40.0              38       0\n",
            "24917   57          3  135339          9             13               2           3             0     1    1             0             0            40.0              38       0\n"
          ]
        }
      ]
    },
    {
      "cell_type": "markdown",
      "source": [
        "### 2.5. Disposição do *dataset* pré-treinamento"
      ],
      "metadata": {
        "id": "_wV4Hrnb-8Rk"
      }
    },
    {
      "cell_type": "markdown",
      "source": [
        "Aqui, separa-se o *dataset* em conjuntos de treino e teste de acordo com os parâmetros definidos na próxima célula."
      ],
      "metadata": {
        "id": "Q_G5M8f6JWWp"
      }
    },
    {
      "cell_type": "code",
      "source": [
        "# Parâmetros Gerais\n",
        "test_size = 0.2 # Proporção de dados de teste em relação ao tamanho do dataset\n",
        "random_state = 42 # Dita como o modelo aleatorizará os dados de treino"
      ],
      "metadata": {
        "id": "LwbFuZ_p0QX4"
      },
      "execution_count": null,
      "outputs": []
    },
    {
      "cell_type": "code",
      "source": [
        "# Separando features e target\n",
        "x = data_new.drop('income', axis=1)\n",
        "y = data_new['income']\n",
        "\n",
        "# Separando conjuntos de teste e treino\n",
        "x_train, x_test, y_train, y_test = train_test_split(x, y, test_size=test_size, random_state=random_state)"
      ],
      "metadata": {
        "id": "1KwaOkQHz8Mu"
      },
      "execution_count": null,
      "outputs": []
    },
    {
      "cell_type": "markdown",
      "source": [
        "## **3. Modelo Decision Tree**"
      ],
      "metadata": {
        "id": "jvADuFDn6VYq"
      }
    },
    {
      "cell_type": "markdown",
      "source": [
        "*Decision Tree*⁽²⁾ é um modelo de classificação supervisionado, baseado na estrutura de raiz, nós internos, folhas e galhos. Com uma estrutura simples, traz vantagens como não necessitar de escalonação dos dados, lidar bem com variáveis correlacionadas, e necessitar de uma quantidade menor de parametrizações. Baseado nos nós de decisão, o modelo se torna capaz de realizar previsões."
      ],
      "metadata": {
        "id": "iGGzu6VGKun5"
      }
    },
    {
      "cell_type": "markdown",
      "source": [
        "### 3.1. Preparação para o treinamento"
      ],
      "metadata": {
        "id": "pj2_qPUB7zPg"
      }
    },
    {
      "cell_type": "code",
      "source": [
        "# Importação de bibliotecas relacionadas ao modelo de Árvore de Decisão\n",
        "from sklearn.tree import DecisionTreeClassifier # Classificador (Árvore de Decisão)\n",
        "from sklearn.metrics import accuracy_score, precision_score, recall_score, f1_score # Métricas de avaliação"
      ],
      "metadata": {
        "id": "6lAiUMnM6k3Q"
      },
      "execution_count": null,
      "outputs": []
    },
    {
      "cell_type": "code",
      "source": [
        "# Definição dos hiperparâmetros para o GridSearch\n",
        "dt_param_grid = {\n",
        "    'max_depth': [10, 20, 30], # Profundidade máxima de cada árvore\n",
        "    'min_samples_split': [2, 5, 10], # Número mínimo de amostras para dividir um nó\n",
        "    'min_samples_leaf': [1, 2, 5], # Número mínimo de amostras por folha\n",
        "    'criterion': ['gini', 'entropy'] # Função de impureza\n",
        "}"
      ],
      "metadata": {
        "id": "XGwVIepW-i6m"
      },
      "execution_count": null,
      "outputs": []
    },
    {
      "cell_type": "code",
      "source": [
        "# Criação do modelo de classificação\n",
        "dt = DecisionTreeClassifier(random_state=random_state)"
      ],
      "metadata": {
        "id": "cYrzlBZO9qG1"
      },
      "execution_count": null,
      "outputs": []
    },
    {
      "cell_type": "markdown",
      "source": [
        "### 3.2. *GridSearch* e treinamento"
      ],
      "metadata": {
        "id": "qFGlnzXv8Dzw"
      }
    },
    {
      "cell_type": "markdown",
      "source": [
        "O *GridSearch*⁽⁴⁾ é uma ferramenta que permite a execução de uma Validação Cruzada no conjunto de parâmetros definido anteriormente. Assim, será possível definir os parâmetros que maximizam a eficácia do modelo, dentre os fornecidos."
      ],
      "metadata": {
        "id": "YZGOBagoLiOM"
      }
    },
    {
      "cell_type": "code",
      "source": [
        "# Aplicação do GridSearch com validação cruzada\n",
        "dt_grid = GridSearchCV(estimator = dt, param_grid = dt_param_grid, n_jobs = -1) # Prepara o GridSearch\n",
        "dt_grid.fit(x_train, y_train) # Executa o GridSearch no conjunto de treino"
      ],
      "metadata": {
        "colab": {
          "base_uri": "https://localhost:8080/",
          "height": 166
        },
        "id": "XZb-ISZkAhFK",
        "outputId": "2a21c1aa-ddf3-4bed-dd79-e387da73842c"
      },
      "execution_count": null,
      "outputs": [
        {
          "output_type": "execute_result",
          "data": {
            "text/plain": [
              "GridSearchCV(estimator=DecisionTreeClassifier(random_state=42), n_jobs=-1,\n",
              "             param_grid={'criterion': ['gini', 'entropy'],\n",
              "                         'max_depth': [10, 20, 30],\n",
              "                         'min_samples_leaf': [1, 2, 5],\n",
              "                         'min_samples_split': [2, 5, 10]})"
            ],
            "text/html": [
              "<style>#sk-container-id-1 {\n",
              "  /* Definition of color scheme common for light and dark mode */\n",
              "  --sklearn-color-text: #000;\n",
              "  --sklearn-color-text-muted: #666;\n",
              "  --sklearn-color-line: gray;\n",
              "  /* Definition of color scheme for unfitted estimators */\n",
              "  --sklearn-color-unfitted-level-0: #fff5e6;\n",
              "  --sklearn-color-unfitted-level-1: #f6e4d2;\n",
              "  --sklearn-color-unfitted-level-2: #ffe0b3;\n",
              "  --sklearn-color-unfitted-level-3: chocolate;\n",
              "  /* Definition of color scheme for fitted estimators */\n",
              "  --sklearn-color-fitted-level-0: #f0f8ff;\n",
              "  --sklearn-color-fitted-level-1: #d4ebff;\n",
              "  --sklearn-color-fitted-level-2: #b3dbfd;\n",
              "  --sklearn-color-fitted-level-3: cornflowerblue;\n",
              "\n",
              "  /* Specific color for light theme */\n",
              "  --sklearn-color-text-on-default-background: var(--sg-text-color, var(--theme-code-foreground, var(--jp-content-font-color1, black)));\n",
              "  --sklearn-color-background: var(--sg-background-color, var(--theme-background, var(--jp-layout-color0, white)));\n",
              "  --sklearn-color-border-box: var(--sg-text-color, var(--theme-code-foreground, var(--jp-content-font-color1, black)));\n",
              "  --sklearn-color-icon: #696969;\n",
              "\n",
              "  @media (prefers-color-scheme: dark) {\n",
              "    /* Redefinition of color scheme for dark theme */\n",
              "    --sklearn-color-text-on-default-background: var(--sg-text-color, var(--theme-code-foreground, var(--jp-content-font-color1, white)));\n",
              "    --sklearn-color-background: var(--sg-background-color, var(--theme-background, var(--jp-layout-color0, #111)));\n",
              "    --sklearn-color-border-box: var(--sg-text-color, var(--theme-code-foreground, var(--jp-content-font-color1, white)));\n",
              "    --sklearn-color-icon: #878787;\n",
              "  }\n",
              "}\n",
              "\n",
              "#sk-container-id-1 {\n",
              "  color: var(--sklearn-color-text);\n",
              "}\n",
              "\n",
              "#sk-container-id-1 pre {\n",
              "  padding: 0;\n",
              "}\n",
              "\n",
              "#sk-container-id-1 input.sk-hidden--visually {\n",
              "  border: 0;\n",
              "  clip: rect(1px 1px 1px 1px);\n",
              "  clip: rect(1px, 1px, 1px, 1px);\n",
              "  height: 1px;\n",
              "  margin: -1px;\n",
              "  overflow: hidden;\n",
              "  padding: 0;\n",
              "  position: absolute;\n",
              "  width: 1px;\n",
              "}\n",
              "\n",
              "#sk-container-id-1 div.sk-dashed-wrapped {\n",
              "  border: 1px dashed var(--sklearn-color-line);\n",
              "  margin: 0 0.4em 0.5em 0.4em;\n",
              "  box-sizing: border-box;\n",
              "  padding-bottom: 0.4em;\n",
              "  background-color: var(--sklearn-color-background);\n",
              "}\n",
              "\n",
              "#sk-container-id-1 div.sk-container {\n",
              "  /* jupyter's `normalize.less` sets `[hidden] { display: none; }`\n",
              "     but bootstrap.min.css set `[hidden] { display: none !important; }`\n",
              "     so we also need the `!important` here to be able to override the\n",
              "     default hidden behavior on the sphinx rendered scikit-learn.org.\n",
              "     See: https://github.com/scikit-learn/scikit-learn/issues/21755 */\n",
              "  display: inline-block !important;\n",
              "  position: relative;\n",
              "}\n",
              "\n",
              "#sk-container-id-1 div.sk-text-repr-fallback {\n",
              "  display: none;\n",
              "}\n",
              "\n",
              "div.sk-parallel-item,\n",
              "div.sk-serial,\n",
              "div.sk-item {\n",
              "  /* draw centered vertical line to link estimators */\n",
              "  background-image: linear-gradient(var(--sklearn-color-text-on-default-background), var(--sklearn-color-text-on-default-background));\n",
              "  background-size: 2px 100%;\n",
              "  background-repeat: no-repeat;\n",
              "  background-position: center center;\n",
              "}\n",
              "\n",
              "/* Parallel-specific style estimator block */\n",
              "\n",
              "#sk-container-id-1 div.sk-parallel-item::after {\n",
              "  content: \"\";\n",
              "  width: 100%;\n",
              "  border-bottom: 2px solid var(--sklearn-color-text-on-default-background);\n",
              "  flex-grow: 1;\n",
              "}\n",
              "\n",
              "#sk-container-id-1 div.sk-parallel {\n",
              "  display: flex;\n",
              "  align-items: stretch;\n",
              "  justify-content: center;\n",
              "  background-color: var(--sklearn-color-background);\n",
              "  position: relative;\n",
              "}\n",
              "\n",
              "#sk-container-id-1 div.sk-parallel-item {\n",
              "  display: flex;\n",
              "  flex-direction: column;\n",
              "}\n",
              "\n",
              "#sk-container-id-1 div.sk-parallel-item:first-child::after {\n",
              "  align-self: flex-end;\n",
              "  width: 50%;\n",
              "}\n",
              "\n",
              "#sk-container-id-1 div.sk-parallel-item:last-child::after {\n",
              "  align-self: flex-start;\n",
              "  width: 50%;\n",
              "}\n",
              "\n",
              "#sk-container-id-1 div.sk-parallel-item:only-child::after {\n",
              "  width: 0;\n",
              "}\n",
              "\n",
              "/* Serial-specific style estimator block */\n",
              "\n",
              "#sk-container-id-1 div.sk-serial {\n",
              "  display: flex;\n",
              "  flex-direction: column;\n",
              "  align-items: center;\n",
              "  background-color: var(--sklearn-color-background);\n",
              "  padding-right: 1em;\n",
              "  padding-left: 1em;\n",
              "}\n",
              "\n",
              "\n",
              "/* Toggleable style: style used for estimator/Pipeline/ColumnTransformer box that is\n",
              "clickable and can be expanded/collapsed.\n",
              "- Pipeline and ColumnTransformer use this feature and define the default style\n",
              "- Estimators will overwrite some part of the style using the `sk-estimator` class\n",
              "*/\n",
              "\n",
              "/* Pipeline and ColumnTransformer style (default) */\n",
              "\n",
              "#sk-container-id-1 div.sk-toggleable {\n",
              "  /* Default theme specific background. It is overwritten whether we have a\n",
              "  specific estimator or a Pipeline/ColumnTransformer */\n",
              "  background-color: var(--sklearn-color-background);\n",
              "}\n",
              "\n",
              "/* Toggleable label */\n",
              "#sk-container-id-1 label.sk-toggleable__label {\n",
              "  cursor: pointer;\n",
              "  display: flex;\n",
              "  width: 100%;\n",
              "  margin-bottom: 0;\n",
              "  padding: 0.5em;\n",
              "  box-sizing: border-box;\n",
              "  text-align: center;\n",
              "  align-items: start;\n",
              "  justify-content: space-between;\n",
              "  gap: 0.5em;\n",
              "}\n",
              "\n",
              "#sk-container-id-1 label.sk-toggleable__label .caption {\n",
              "  font-size: 0.6rem;\n",
              "  font-weight: lighter;\n",
              "  color: var(--sklearn-color-text-muted);\n",
              "}\n",
              "\n",
              "#sk-container-id-1 label.sk-toggleable__label-arrow:before {\n",
              "  /* Arrow on the left of the label */\n",
              "  content: \"▸\";\n",
              "  float: left;\n",
              "  margin-right: 0.25em;\n",
              "  color: var(--sklearn-color-icon);\n",
              "}\n",
              "\n",
              "#sk-container-id-1 label.sk-toggleable__label-arrow:hover:before {\n",
              "  color: var(--sklearn-color-text);\n",
              "}\n",
              "\n",
              "/* Toggleable content - dropdown */\n",
              "\n",
              "#sk-container-id-1 div.sk-toggleable__content {\n",
              "  max-height: 0;\n",
              "  max-width: 0;\n",
              "  overflow: hidden;\n",
              "  text-align: left;\n",
              "  /* unfitted */\n",
              "  background-color: var(--sklearn-color-unfitted-level-0);\n",
              "}\n",
              "\n",
              "#sk-container-id-1 div.sk-toggleable__content.fitted {\n",
              "  /* fitted */\n",
              "  background-color: var(--sklearn-color-fitted-level-0);\n",
              "}\n",
              "\n",
              "#sk-container-id-1 div.sk-toggleable__content pre {\n",
              "  margin: 0.2em;\n",
              "  border-radius: 0.25em;\n",
              "  color: var(--sklearn-color-text);\n",
              "  /* unfitted */\n",
              "  background-color: var(--sklearn-color-unfitted-level-0);\n",
              "}\n",
              "\n",
              "#sk-container-id-1 div.sk-toggleable__content.fitted pre {\n",
              "  /* unfitted */\n",
              "  background-color: var(--sklearn-color-fitted-level-0);\n",
              "}\n",
              "\n",
              "#sk-container-id-1 input.sk-toggleable__control:checked~div.sk-toggleable__content {\n",
              "  /* Expand drop-down */\n",
              "  max-height: 200px;\n",
              "  max-width: 100%;\n",
              "  overflow: auto;\n",
              "}\n",
              "\n",
              "#sk-container-id-1 input.sk-toggleable__control:checked~label.sk-toggleable__label-arrow:before {\n",
              "  content: \"▾\";\n",
              "}\n",
              "\n",
              "/* Pipeline/ColumnTransformer-specific style */\n",
              "\n",
              "#sk-container-id-1 div.sk-label input.sk-toggleable__control:checked~label.sk-toggleable__label {\n",
              "  color: var(--sklearn-color-text);\n",
              "  background-color: var(--sklearn-color-unfitted-level-2);\n",
              "}\n",
              "\n",
              "#sk-container-id-1 div.sk-label.fitted input.sk-toggleable__control:checked~label.sk-toggleable__label {\n",
              "  background-color: var(--sklearn-color-fitted-level-2);\n",
              "}\n",
              "\n",
              "/* Estimator-specific style */\n",
              "\n",
              "/* Colorize estimator box */\n",
              "#sk-container-id-1 div.sk-estimator input.sk-toggleable__control:checked~label.sk-toggleable__label {\n",
              "  /* unfitted */\n",
              "  background-color: var(--sklearn-color-unfitted-level-2);\n",
              "}\n",
              "\n",
              "#sk-container-id-1 div.sk-estimator.fitted input.sk-toggleable__control:checked~label.sk-toggleable__label {\n",
              "  /* fitted */\n",
              "  background-color: var(--sklearn-color-fitted-level-2);\n",
              "}\n",
              "\n",
              "#sk-container-id-1 div.sk-label label.sk-toggleable__label,\n",
              "#sk-container-id-1 div.sk-label label {\n",
              "  /* The background is the default theme color */\n",
              "  color: var(--sklearn-color-text-on-default-background);\n",
              "}\n",
              "\n",
              "/* On hover, darken the color of the background */\n",
              "#sk-container-id-1 div.sk-label:hover label.sk-toggleable__label {\n",
              "  color: var(--sklearn-color-text);\n",
              "  background-color: var(--sklearn-color-unfitted-level-2);\n",
              "}\n",
              "\n",
              "/* Label box, darken color on hover, fitted */\n",
              "#sk-container-id-1 div.sk-label.fitted:hover label.sk-toggleable__label.fitted {\n",
              "  color: var(--sklearn-color-text);\n",
              "  background-color: var(--sklearn-color-fitted-level-2);\n",
              "}\n",
              "\n",
              "/* Estimator label */\n",
              "\n",
              "#sk-container-id-1 div.sk-label label {\n",
              "  font-family: monospace;\n",
              "  font-weight: bold;\n",
              "  display: inline-block;\n",
              "  line-height: 1.2em;\n",
              "}\n",
              "\n",
              "#sk-container-id-1 div.sk-label-container {\n",
              "  text-align: center;\n",
              "}\n",
              "\n",
              "/* Estimator-specific */\n",
              "#sk-container-id-1 div.sk-estimator {\n",
              "  font-family: monospace;\n",
              "  border: 1px dotted var(--sklearn-color-border-box);\n",
              "  border-radius: 0.25em;\n",
              "  box-sizing: border-box;\n",
              "  margin-bottom: 0.5em;\n",
              "  /* unfitted */\n",
              "  background-color: var(--sklearn-color-unfitted-level-0);\n",
              "}\n",
              "\n",
              "#sk-container-id-1 div.sk-estimator.fitted {\n",
              "  /* fitted */\n",
              "  background-color: var(--sklearn-color-fitted-level-0);\n",
              "}\n",
              "\n",
              "/* on hover */\n",
              "#sk-container-id-1 div.sk-estimator:hover {\n",
              "  /* unfitted */\n",
              "  background-color: var(--sklearn-color-unfitted-level-2);\n",
              "}\n",
              "\n",
              "#sk-container-id-1 div.sk-estimator.fitted:hover {\n",
              "  /* fitted */\n",
              "  background-color: var(--sklearn-color-fitted-level-2);\n",
              "}\n",
              "\n",
              "/* Specification for estimator info (e.g. \"i\" and \"?\") */\n",
              "\n",
              "/* Common style for \"i\" and \"?\" */\n",
              "\n",
              ".sk-estimator-doc-link,\n",
              "a:link.sk-estimator-doc-link,\n",
              "a:visited.sk-estimator-doc-link {\n",
              "  float: right;\n",
              "  font-size: smaller;\n",
              "  line-height: 1em;\n",
              "  font-family: monospace;\n",
              "  background-color: var(--sklearn-color-background);\n",
              "  border-radius: 1em;\n",
              "  height: 1em;\n",
              "  width: 1em;\n",
              "  text-decoration: none !important;\n",
              "  margin-left: 0.5em;\n",
              "  text-align: center;\n",
              "  /* unfitted */\n",
              "  border: var(--sklearn-color-unfitted-level-1) 1pt solid;\n",
              "  color: var(--sklearn-color-unfitted-level-1);\n",
              "}\n",
              "\n",
              ".sk-estimator-doc-link.fitted,\n",
              "a:link.sk-estimator-doc-link.fitted,\n",
              "a:visited.sk-estimator-doc-link.fitted {\n",
              "  /* fitted */\n",
              "  border: var(--sklearn-color-fitted-level-1) 1pt solid;\n",
              "  color: var(--sklearn-color-fitted-level-1);\n",
              "}\n",
              "\n",
              "/* On hover */\n",
              "div.sk-estimator:hover .sk-estimator-doc-link:hover,\n",
              ".sk-estimator-doc-link:hover,\n",
              "div.sk-label-container:hover .sk-estimator-doc-link:hover,\n",
              ".sk-estimator-doc-link:hover {\n",
              "  /* unfitted */\n",
              "  background-color: var(--sklearn-color-unfitted-level-3);\n",
              "  color: var(--sklearn-color-background);\n",
              "  text-decoration: none;\n",
              "}\n",
              "\n",
              "div.sk-estimator.fitted:hover .sk-estimator-doc-link.fitted:hover,\n",
              ".sk-estimator-doc-link.fitted:hover,\n",
              "div.sk-label-container:hover .sk-estimator-doc-link.fitted:hover,\n",
              ".sk-estimator-doc-link.fitted:hover {\n",
              "  /* fitted */\n",
              "  background-color: var(--sklearn-color-fitted-level-3);\n",
              "  color: var(--sklearn-color-background);\n",
              "  text-decoration: none;\n",
              "}\n",
              "\n",
              "/* Span, style for the box shown on hovering the info icon */\n",
              ".sk-estimator-doc-link span {\n",
              "  display: none;\n",
              "  z-index: 9999;\n",
              "  position: relative;\n",
              "  font-weight: normal;\n",
              "  right: .2ex;\n",
              "  padding: .5ex;\n",
              "  margin: .5ex;\n",
              "  width: min-content;\n",
              "  min-width: 20ex;\n",
              "  max-width: 50ex;\n",
              "  color: var(--sklearn-color-text);\n",
              "  box-shadow: 2pt 2pt 4pt #999;\n",
              "  /* unfitted */\n",
              "  background: var(--sklearn-color-unfitted-level-0);\n",
              "  border: .5pt solid var(--sklearn-color-unfitted-level-3);\n",
              "}\n",
              "\n",
              ".sk-estimator-doc-link.fitted span {\n",
              "  /* fitted */\n",
              "  background: var(--sklearn-color-fitted-level-0);\n",
              "  border: var(--sklearn-color-fitted-level-3);\n",
              "}\n",
              "\n",
              ".sk-estimator-doc-link:hover span {\n",
              "  display: block;\n",
              "}\n",
              "\n",
              "/* \"?\"-specific style due to the `<a>` HTML tag */\n",
              "\n",
              "#sk-container-id-1 a.estimator_doc_link {\n",
              "  float: right;\n",
              "  font-size: 1rem;\n",
              "  line-height: 1em;\n",
              "  font-family: monospace;\n",
              "  background-color: var(--sklearn-color-background);\n",
              "  border-radius: 1rem;\n",
              "  height: 1rem;\n",
              "  width: 1rem;\n",
              "  text-decoration: none;\n",
              "  /* unfitted */\n",
              "  color: var(--sklearn-color-unfitted-level-1);\n",
              "  border: var(--sklearn-color-unfitted-level-1) 1pt solid;\n",
              "}\n",
              "\n",
              "#sk-container-id-1 a.estimator_doc_link.fitted {\n",
              "  /* fitted */\n",
              "  border: var(--sklearn-color-fitted-level-1) 1pt solid;\n",
              "  color: var(--sklearn-color-fitted-level-1);\n",
              "}\n",
              "\n",
              "/* On hover */\n",
              "#sk-container-id-1 a.estimator_doc_link:hover {\n",
              "  /* unfitted */\n",
              "  background-color: var(--sklearn-color-unfitted-level-3);\n",
              "  color: var(--sklearn-color-background);\n",
              "  text-decoration: none;\n",
              "}\n",
              "\n",
              "#sk-container-id-1 a.estimator_doc_link.fitted:hover {\n",
              "  /* fitted */\n",
              "  background-color: var(--sklearn-color-fitted-level-3);\n",
              "}\n",
              "</style><div id=\"sk-container-id-1\" class=\"sk-top-container\"><div class=\"sk-text-repr-fallback\"><pre>GridSearchCV(estimator=DecisionTreeClassifier(random_state=42), n_jobs=-1,\n",
              "             param_grid={&#x27;criterion&#x27;: [&#x27;gini&#x27;, &#x27;entropy&#x27;],\n",
              "                         &#x27;max_depth&#x27;: [10, 20, 30],\n",
              "                         &#x27;min_samples_leaf&#x27;: [1, 2, 5],\n",
              "                         &#x27;min_samples_split&#x27;: [2, 5, 10]})</pre><b>In a Jupyter environment, please rerun this cell to show the HTML representation or trust the notebook. <br />On GitHub, the HTML representation is unable to render, please try loading this page with nbviewer.org.</b></div><div class=\"sk-container\" hidden><div class=\"sk-item sk-dashed-wrapped\"><div class=\"sk-label-container\"><div class=\"sk-label fitted sk-toggleable\"><input class=\"sk-toggleable__control sk-hidden--visually\" id=\"sk-estimator-id-1\" type=\"checkbox\" ><label for=\"sk-estimator-id-1\" class=\"sk-toggleable__label fitted sk-toggleable__label-arrow\"><div><div>GridSearchCV</div></div><div><a class=\"sk-estimator-doc-link fitted\" rel=\"noreferrer\" target=\"_blank\" href=\"https://scikit-learn.org/1.6/modules/generated/sklearn.model_selection.GridSearchCV.html\">?<span>Documentation for GridSearchCV</span></a><span class=\"sk-estimator-doc-link fitted\">i<span>Fitted</span></span></div></label><div class=\"sk-toggleable__content fitted\"><pre>GridSearchCV(estimator=DecisionTreeClassifier(random_state=42), n_jobs=-1,\n",
              "             param_grid={&#x27;criterion&#x27;: [&#x27;gini&#x27;, &#x27;entropy&#x27;],\n",
              "                         &#x27;max_depth&#x27;: [10, 20, 30],\n",
              "                         &#x27;min_samples_leaf&#x27;: [1, 2, 5],\n",
              "                         &#x27;min_samples_split&#x27;: [2, 5, 10]})</pre></div> </div></div><div class=\"sk-parallel\"><div class=\"sk-parallel-item\"><div class=\"sk-item\"><div class=\"sk-label-container\"><div class=\"sk-label fitted sk-toggleable\"><input class=\"sk-toggleable__control sk-hidden--visually\" id=\"sk-estimator-id-2\" type=\"checkbox\" ><label for=\"sk-estimator-id-2\" class=\"sk-toggleable__label fitted sk-toggleable__label-arrow\"><div><div>best_estimator_: DecisionTreeClassifier</div></div></label><div class=\"sk-toggleable__content fitted\"><pre>DecisionTreeClassifier(max_depth=10, min_samples_split=5, random_state=42)</pre></div> </div></div><div class=\"sk-serial\"><div class=\"sk-item\"><div class=\"sk-estimator fitted sk-toggleable\"><input class=\"sk-toggleable__control sk-hidden--visually\" id=\"sk-estimator-id-3\" type=\"checkbox\" ><label for=\"sk-estimator-id-3\" class=\"sk-toggleable__label fitted sk-toggleable__label-arrow\"><div><div>DecisionTreeClassifier</div></div><div><a class=\"sk-estimator-doc-link fitted\" rel=\"noreferrer\" target=\"_blank\" href=\"https://scikit-learn.org/1.6/modules/generated/sklearn.tree.DecisionTreeClassifier.html\">?<span>Documentation for DecisionTreeClassifier</span></a></div></label><div class=\"sk-toggleable__content fitted\"><pre>DecisionTreeClassifier(max_depth=10, min_samples_split=5, random_state=42)</pre></div> </div></div></div></div></div></div></div></div></div>"
            ]
          },
          "metadata": {},
          "execution_count": 15
        }
      ]
    },
    {
      "cell_type": "code",
      "source": [
        "# Visualização dos atributos ótimos da GridSearch\n",
        "print('Atributos Ótimos:\\n') # Título\n",
        "print(f'Hiperparâmetros: {dt_grid.best_params_}') # Melhores hiperparâmetros encontrados\n",
        "print(f'Score da Validação Cruzada: {dt_grid.best_score_:.4f}') # Melhor score da validação cruzada"
      ],
      "metadata": {
        "colab": {
          "base_uri": "https://localhost:8080/"
        },
        "id": "sjiIDs7-CRbo",
        "outputId": "4035b7af-7e8e-4617-b6ad-9f63a20faa78"
      },
      "execution_count": null,
      "outputs": [
        {
          "output_type": "stream",
          "name": "stdout",
          "text": [
            "Atributos Ótimos:\n",
            "\n",
            "Hiperparâmetros: {'criterion': 'gini', 'max_depth': 10, 'min_samples_leaf': 1, 'min_samples_split': 5}\n",
            "Score da Validação Cruzada: 0.8534\n"
          ]
        }
      ]
    },
    {
      "cell_type": "markdown",
      "source": [
        "### 3.3. Predição e avaliação do modelo"
      ],
      "metadata": {
        "id": "OC_ZJz2H8G8a"
      }
    },
    {
      "cell_type": "markdown",
      "source": [
        "Ainda com o auxílio do *GridSearch*⁽³⁾, separa-se o modelo já treinado com os valores ótimos, dentre os fornecidos, na variável \"*best*\", a fim de avaliar a sua predição com as métricas Acurácia, *Precision*, *Recall* e *F1-score*."
      ],
      "metadata": {
        "id": "26gwUtwVNAwf"
      }
    },
    {
      "cell_type": "code",
      "source": [
        "# Otimização e predição do modelo\n",
        "dt_best = dt_grid.best_estimator_ # Modelo com os parâmetros ótimos\n",
        "dt_preds = dt_best.predict(x_test) # Predição do modelo com os parâmetros ótimos"
      ],
      "metadata": {
        "id": "ejg9fed-ELt5"
      },
      "execution_count": null,
      "outputs": []
    },
    {
      "cell_type": "code",
      "source": [
        "# Visualização das métricas de avaliação\n",
        "print(f\"Acurácia:  {accuracy_score(y_test, dt_preds):.4f}\") # Acurácia\n",
        "print(f\"Precision: {precision_score(y_test, dt_preds):.4f}\") # Precision\n",
        "print(f\"Recall:    {recall_score(y_test, dt_preds):.4f}\") # Recall\n",
        "print(f\"F1-score:  {f1_score(y_test, dt_preds):.4f}\") # F1-score"
      ],
      "metadata": {
        "colab": {
          "base_uri": "https://localhost:8080/"
        },
        "id": "xXRc3fmDDkkQ",
        "outputId": "a4bc5477-0f5f-4289-d3c8-19e629803465"
      },
      "execution_count": null,
      "outputs": [
        {
          "output_type": "stream",
          "name": "stdout",
          "text": [
            "Acurácia:  0.8527\n",
            "Precision: 0.8184\n",
            "Recall:    0.5406\n",
            "F1-score:  0.6511\n"
          ]
        }
      ]
    },
    {
      "cell_type": "markdown",
      "source": [
        "### 3.4. Matriz de Confusão"
      ],
      "metadata": {
        "id": "8kuRBB6Y8QKd"
      }
    },
    {
      "cell_type": "markdown",
      "source": [
        "A matriz de confusão é uma ferramenta que permite uma visualização simplificada da comparação entre os valores previstos pelo modelo (*Predicted label*) e os esperados (*True label*) por meio de quadrantes. Aqui, ela é gerada através das bibliotecas *Matplotlib* e *scikit-learn*."
      ],
      "metadata": {
        "id": "K-Iml7D5NhFA"
      }
    },
    {
      "cell_type": "code",
      "source": [
        "# Tamanho do conjunto de teste\n",
        "print(f\"Test Size: {len(x_test)}\")\n",
        "\n",
        "# Matriz de confusão\n",
        "cm = confusion_matrix(y_test, dt_preds)\n",
        "disp = ConfusionMatrixDisplay(confusion_matrix=cm, display_labels=['<= 50K', '> 50K'])\n",
        "disp.plot(cmap=plt.cm.Blues)\n",
        "plt.title(f\"Matriz de Confusão da Decision Tree\")\n",
        "plt.grid(False)\n",
        "plt.show()"
      ],
      "metadata": {
        "colab": {
          "base_uri": "https://localhost:8080/",
          "height": 489
        },
        "id": "A2EN1FiRLqUq",
        "outputId": "5356bf32-1127-4268-ec59-ab79ad60e748"
      },
      "execution_count": null,
      "outputs": [
        {
          "output_type": "stream",
          "name": "stdout",
          "text": [
            "Test Size: 4984\n"
          ]
        },
        {
          "output_type": "display_data",
          "data": {
            "text/plain": [
              "<Figure size 640x480 with 2 Axes>"
            ],
            "image/png": "[encoded data removed]"
          },
          "metadata": {}
        }
      ]
    },
    {
      "cell_type": "markdown",
      "source": [
        "Após análise da matriz de confusão gerada para o desempenho do Decision Tree, é perceptível como o modelo teve um número considerável de acertos, principalmente no que tange aos labels de renda inferior à 50K (quadrante superior esquedo)."
      ],
      "metadata": {
        "id": "wBdZZp4vRk_D"
      }
    },
    {
      "cell_type": "markdown",
      "source": [
        "### 3.5. Gráfico de Importâncias"
      ],
      "metadata": {
        "id": "bbHCiWHH8W40"
      }
    },
    {
      "cell_type": "markdown",
      "source": [
        "O gráfico de importâncias é uma ferramenta que permite uma visualização simplificada da importância de cada atributo na tomada de decisões do modelo. Para isso, utiliza-se dos dados numéricos de importância gerados após o *GridSearch*⁽⁴⁾."
      ],
      "metadata": {
        "id": "q2LemRcIPkbk"
      }
    },
    {
      "cell_type": "code",
      "source": [
        "# Ordenando os elementos\n",
        "indices = np.argsort(dt_best.feature_importances_)[::-1] # Ordena os índices de forma decrescente\n",
        "sorted_features = x_train.columns[indices] # Ordena os nomes\n",
        "sorted_importances = dt_best.feature_importances_[indices] # Ordena as importâncias\n",
        "\n",
        "# Plotando gráfico de importâncias\n",
        "plt.figure(figsize=(12, 5))\n",
        "plt.title(\"Importância dos Features para Árvore de Decisão\")\n",
        "plt.barh(range(len(sorted_features)), sorted_importances, align='center')\n",
        "plt.yticks(range(len(sorted_features)), sorted_features)\n",
        "plt.xlabel(\"Importância\")\n",
        "plt.ylabel(\"Atributos\")\n",
        "plt.gca().invert_yaxis()\n",
        "plt.tight_layout()\n",
        "plt.grid()\n",
        "plt.show()"
      ],
      "metadata": {
        "colab": {
          "base_uri": "https://localhost:8080/",
          "height": 527
        },
        "id": "Mfq3z8IPXCGT",
        "outputId": "d3bda488-4d2b-40ca-a074-b43a354ad1f5"
      },
      "execution_count": null,
      "outputs": [
        {
          "output_type": "display_data",
          "data": {
            "text/plain": [
              "<Figure size 1200x500 with 1 Axes>"
            ],
            "image/png": "[encoded data removed]"
          },
          "metadata": {}
        }
      ]
    },
    {
      "cell_type": "markdown",
      "source": [
        "Aqui, é perceptível que atributos como \"ganho de capital\" tiveram grande impacto, enquanto atributos como \"estado civil\" e \"país de origem\" tiveram pequeno impacto na tomada de decisões do *Decision Tree*, considerando os parâmetros definidos nesse contexto."
      ],
      "metadata": {
        "id": "fzJa99wkS_MP"
      }
    },
    {
      "cell_type": "markdown",
      "source": [
        "## **4. Modelo Random Forest**"
      ],
      "metadata": {
        "id": "039J8nNlGMc4"
      }
    },
    {
      "cell_type": "markdown",
      "source": [
        "\n",
        "\n",
        "*Random Forest*⁽³⁾ é um tipo específico de *Decision Tree*⁽²⁾, no qual há múltiplas árvores de decisão em funcionamento simultaneamente, dotadas de um treinamento com diferentes subconjuntos de dados. Ela possui as mesmas vantagens de uma árvore de decisão, além de ser mais robusta e estável, e de tender a reduzir a ocorrência de *overfitting*."
      ],
      "metadata": {
        "id": "ikqhYNEAKy3r"
      }
    },
    {
      "cell_type": "markdown",
      "source": [
        "### 4.1. Preparação para o treinamento"
      ],
      "metadata": {
        "id": "Rgblvy198njm"
      }
    },
    {
      "cell_type": "code",
      "source": [
        "# Importação de bibliotecas relacionadas ao modelo de Random Forest\n",
        "from sklearn.ensemble import RandomForestClassifier # Classificador (Random Forest)\n",
        "from sklearn.metrics import accuracy_score, precision_score, recall_score, f1_score # Métricas de avaliação"
      ],
      "metadata": {
        "id": "fg3suqlpGOai"
      },
      "execution_count": null,
      "outputs": []
    },
    {
      "cell_type": "code",
      "source": [
        "# Definição dos hiperparâmetros para o GridSearch\n",
        "rf_param_grid = {\n",
        "    'n_estimators': [100, 200, 500], # Número de árvores\n",
        "    'max_depth': [10, 20, 30], # Profundidade máxima de cada árvore\n",
        "    'min_samples_split': [2, 5, 10], # Número mínimo de amostras para dividir um nó\n",
        "    'min_samples_leaf': [1, 2, 5], # Número mínimo de amostras por folha\n",
        "    'max_features': ['log2', 'sqrt', 0.5] # Features consideradas para split\n",
        "}"
      ],
      "metadata": {
        "id": "LGSy8HxAGp-I"
      },
      "execution_count": null,
      "outputs": []
    },
    {
      "cell_type": "code",
      "source": [
        "# Criação do modelo de classificação\n",
        "rf = RandomForestClassifier(random_state=random_state)"
      ],
      "metadata": {
        "id": "eNCsrJPcHI2-"
      },
      "execution_count": null,
      "outputs": []
    },
    {
      "cell_type": "markdown",
      "source": [
        "### 4.2. *GridSearch* e treinamento"
      ],
      "metadata": {
        "id": "LUleal2D8uW7"
      }
    },
    {
      "cell_type": "markdown",
      "source": [
        "O *GridSearch*⁽⁴⁾ é uma ferramenta que permite a execução de uma Validação Cruzada no conjunto de parâmetros definido anteriormente. Assim, será possível definir os parâmetros que maximizam a eficácia do modelo, dentre os fornecidos."
      ],
      "metadata": {
        "id": "7K87UFEFMFbZ"
      }
    },
    {
      "cell_type": "code",
      "source": [
        "# Aplicação do GridSearch com validação cruzada\n",
        "rf_grid = GridSearchCV(estimator = rf, param_grid = rf_param_grid, n_jobs = -1) # Prepara o GridSearch\n",
        "rf_grid.fit(x_train, y_train) # Executa o GridSearch no conjunto de treino"
      ],
      "metadata": {
        "colab": {
          "base_uri": "https://localhost:8080/",
          "height": 166
        },
        "id": "6ObOVxEIHNBl",
        "outputId": "2f1de0f3-c834-4c6c-e988-65e0dfd5f517"
      },
      "execution_count": null,
      "outputs": [
        {
          "output_type": "execute_result",
          "data": {
            "text/plain": [
              "GridSearchCV(estimator=RandomForestClassifier(random_state=42), n_jobs=-1,\n",
              "             param_grid={'max_depth': [10, 20, 30],\n",
              "                         'max_features': ['log2', 'sqrt', 0.5],\n",
              "                         'min_samples_leaf': [1, 2, 5],\n",
              "                         'min_samples_split': [2, 5, 10],\n",
              "                         'n_estimators': [100, 200, 500]})"
            ],
            "text/html": [
              "<style>#sk-container-id-2 {\n",
              "  /* Definition of color scheme common for light and dark mode */\n",
              "  --sklearn-color-text: #000;\n",
              "  --sklearn-color-text-muted: #666;\n",
              "  --sklearn-color-line: gray;\n",
              "  /* Definition of color scheme for unfitted estimators */\n",
              "  --sklearn-color-unfitted-level-0: #fff5e6;\n",
              "  --sklearn-color-unfitted-level-1: #f6e4d2;\n",
              "  --sklearn-color-unfitted-level-2: #ffe0b3;\n",
              "  --sklearn-color-unfitted-level-3: chocolate;\n",
              "  /* Definition of color scheme for fitted estimators */\n",
              "  --sklearn-color-fitted-level-0: #f0f8ff;\n",
              "  --sklearn-color-fitted-level-1: #d4ebff;\n",
              "  --sklearn-color-fitted-level-2: #b3dbfd;\n",
              "  --sklearn-color-fitted-level-3: cornflowerblue;\n",
              "\n",
              "  /* Specific color for light theme */\n",
              "  --sklearn-color-text-on-default-background: var(--sg-text-color, var(--theme-code-foreground, var(--jp-content-font-color1, black)));\n",
              "  --sklearn-color-background: var(--sg-background-color, var(--theme-background, var(--jp-layout-color0, white)));\n",
              "  --sklearn-color-border-box: var(--sg-text-color, var(--theme-code-foreground, var(--jp-content-font-color1, black)));\n",
              "  --sklearn-color-icon: #696969;\n",
              "\n",
              "  @media (prefers-color-scheme: dark) {\n",
              "    /* Redefinition of color scheme for dark theme */\n",
              "    --sklearn-color-text-on-default-background: var(--sg-text-color, var(--theme-code-foreground, var(--jp-content-font-color1, white)));\n",
              "    --sklearn-color-background: var(--sg-background-color, var(--theme-background, var(--jp-layout-color0, #111)));\n",
              "    --sklearn-color-border-box: var(--sg-text-color, var(--theme-code-foreground, var(--jp-content-font-color1, white)));\n",
              "    --sklearn-color-icon: #878787;\n",
              "  }\n",
              "}\n",
              "\n",
              "#sk-container-id-2 {\n",
              "  color: var(--sklearn-color-text);\n",
              "}\n",
              "\n",
              "#sk-container-id-2 pre {\n",
              "  padding: 0;\n",
              "}\n",
              "\n",
              "#sk-container-id-2 input.sk-hidden--visually {\n",
              "  border: 0;\n",
              "  clip: rect(1px 1px 1px 1px);\n",
              "  clip: rect(1px, 1px, 1px, 1px);\n",
              "  height: 1px;\n",
              "  margin: -1px;\n",
              "  overflow: hidden;\n",
              "  padding: 0;\n",
              "  position: absolute;\n",
              "  width: 1px;\n",
              "}\n",
              "\n",
              "#sk-container-id-2 div.sk-dashed-wrapped {\n",
              "  border: 1px dashed var(--sklearn-color-line);\n",
              "  margin: 0 0.4em 0.5em 0.4em;\n",
              "  box-sizing: border-box;\n",
              "  padding-bottom: 0.4em;\n",
              "  background-color: var(--sklearn-color-background);\n",
              "}\n",
              "\n",
              "#sk-container-id-2 div.sk-container {\n",
              "  /* jupyter's `normalize.less` sets `[hidden] { display: none; }`\n",
              "     but bootstrap.min.css set `[hidden] { display: none !important; }`\n",
              "     so we also need the `!important` here to be able to override the\n",
              "     default hidden behavior on the sphinx rendered scikit-learn.org.\n",
              "     See: https://github.com/scikit-learn/scikit-learn/issues/21755 */\n",
              "  display: inline-block !important;\n",
              "  position: relative;\n",
              "}\n",
              "\n",
              "#sk-container-id-2 div.sk-text-repr-fallback {\n",
              "  display: none;\n",
              "}\n",
              "\n",
              "div.sk-parallel-item,\n",
              "div.sk-serial,\n",
              "div.sk-item {\n",
              "  /* draw centered vertical line to link estimators */\n",
              "  background-image: linear-gradient(var(--sklearn-color-text-on-default-background), var(--sklearn-color-text-on-default-background));\n",
              "  background-size: 2px 100%;\n",
              "  background-repeat: no-repeat;\n",
              "  background-position: center center;\n",
              "}\n",
              "\n",
              "/* Parallel-specific style estimator block */\n",
              "\n",
              "#sk-container-id-2 div.sk-parallel-item::after {\n",
              "  content: \"\";\n",
              "  width: 100%;\n",
              "  border-bottom: 2px solid var(--sklearn-color-text-on-default-background);\n",
              "  flex-grow: 1;\n",
              "}\n",
              "\n",
              "#sk-container-id-2 div.sk-parallel {\n",
              "  display: flex;\n",
              "  align-items: stretch;\n",
              "  justify-content: center;\n",
              "  background-color: var(--sklearn-color-background);\n",
              "  position: relative;\n",
              "}\n",
              "\n",
              "#sk-container-id-2 div.sk-parallel-item {\n",
              "  display: flex;\n",
              "  flex-direction: column;\n",
              "}\n",
              "\n",
              "#sk-container-id-2 div.sk-parallel-item:first-child::after {\n",
              "  align-self: flex-end;\n",
              "  width: 50%;\n",
              "}\n",
              "\n",
              "#sk-container-id-2 div.sk-parallel-item:last-child::after {\n",
              "  align-self: flex-start;\n",
              "  width: 50%;\n",
              "}\n",
              "\n",
              "#sk-container-id-2 div.sk-parallel-item:only-child::after {\n",
              "  width: 0;\n",
              "}\n",
              "\n",
              "/* Serial-specific style estimator block */\n",
              "\n",
              "#sk-container-id-2 div.sk-serial {\n",
              "  display: flex;\n",
              "  flex-direction: column;\n",
              "  align-items: center;\n",
              "  background-color: var(--sklearn-color-background);\n",
              "  padding-right: 1em;\n",
              "  padding-left: 1em;\n",
              "}\n",
              "\n",
              "\n",
              "/* Toggleable style: style used for estimator/Pipeline/ColumnTransformer box that is\n",
              "clickable and can be expanded/collapsed.\n",
              "- Pipeline and ColumnTransformer use this feature and define the default style\n",
              "- Estimators will overwrite some part of the style using the `sk-estimator` class\n",
              "*/\n",
              "\n",
              "/* Pipeline and ColumnTransformer style (default) */\n",
              "\n",
              "#sk-container-id-2 div.sk-toggleable {\n",
              "  /* Default theme specific background. It is overwritten whether we have a\n",
              "  specific estimator or a Pipeline/ColumnTransformer */\n",
              "  background-color: var(--sklearn-color-background);\n",
              "}\n",
              "\n",
              "/* Toggleable label */\n",
              "#sk-container-id-2 label.sk-toggleable__label {\n",
              "  cursor: pointer;\n",
              "  display: flex;\n",
              "  width: 100%;\n",
              "  margin-bottom: 0;\n",
              "  padding: 0.5em;\n",
              "  box-sizing: border-box;\n",
              "  text-align: center;\n",
              "  align-items: start;\n",
              "  justify-content: space-between;\n",
              "  gap: 0.5em;\n",
              "}\n",
              "\n",
              "#sk-container-id-2 label.sk-toggleable__label .caption {\n",
              "  font-size: 0.6rem;\n",
              "  font-weight: lighter;\n",
              "  color: var(--sklearn-color-text-muted);\n",
              "}\n",
              "\n",
              "#sk-container-id-2 label.sk-toggleable__label-arrow:before {\n",
              "  /* Arrow on the left of the label */\n",
              "  content: \"▸\";\n",
              "  float: left;\n",
              "  margin-right: 0.25em;\n",
              "  color: var(--sklearn-color-icon);\n",
              "}\n",
              "\n",
              "#sk-container-id-2 label.sk-toggleable__label-arrow:hover:before {\n",
              "  color: var(--sklearn-color-text);\n",
              "}\n",
              "\n",
              "/* Toggleable content - dropdown */\n",
              "\n",
              "#sk-container-id-2 div.sk-toggleable__content {\n",
              "  max-height: 0;\n",
              "  max-width: 0;\n",
              "  overflow: hidden;\n",
              "  text-align: left;\n",
              "  /* unfitted */\n",
              "  background-color: var(--sklearn-color-unfitted-level-0);\n",
              "}\n",
              "\n",
              "#sk-container-id-2 div.sk-toggleable__content.fitted {\n",
              "  /* fitted */\n",
              "  background-color: var(--sklearn-color-fitted-level-0);\n",
              "}\n",
              "\n",
              "#sk-container-id-2 div.sk-toggleable__content pre {\n",
              "  margin: 0.2em;\n",
              "  border-radius: 0.25em;\n",
              "  color: var(--sklearn-color-text);\n",
              "  /* unfitted */\n",
              "  background-color: var(--sklearn-color-unfitted-level-0);\n",
              "}\n",
              "\n",
              "#sk-container-id-2 div.sk-toggleable__content.fitted pre {\n",
              "  /* unfitted */\n",
              "  background-color: var(--sklearn-color-fitted-level-0);\n",
              "}\n",
              "\n",
              "#sk-container-id-2 input.sk-toggleable__control:checked~div.sk-toggleable__content {\n",
              "  /* Expand drop-down */\n",
              "  max-height: 200px;\n",
              "  max-width: 100%;\n",
              "  overflow: auto;\n",
              "}\n",
              "\n",
              "#sk-container-id-2 input.sk-toggleable__control:checked~label.sk-toggleable__label-arrow:before {\n",
              "  content: \"▾\";\n",
              "}\n",
              "\n",
              "/* Pipeline/ColumnTransformer-specific style */\n",
              "\n",
              "#sk-container-id-2 div.sk-label input.sk-toggleable__control:checked~label.sk-toggleable__label {\n",
              "  color: var(--sklearn-color-text);\n",
              "  background-color: var(--sklearn-color-unfitted-level-2);\n",
              "}\n",
              "\n",
              "#sk-container-id-2 div.sk-label.fitted input.sk-toggleable__control:checked~label.sk-toggleable__label {\n",
              "  background-color: var(--sklearn-color-fitted-level-2);\n",
              "}\n",
              "\n",
              "/* Estimator-specific style */\n",
              "\n",
              "/* Colorize estimator box */\n",
              "#sk-container-id-2 div.sk-estimator input.sk-toggleable__control:checked~label.sk-toggleable__label {\n",
              "  /* unfitted */\n",
              "  background-color: var(--sklearn-color-unfitted-level-2);\n",
              "}\n",
              "\n",
              "#sk-container-id-2 div.sk-estimator.fitted input.sk-toggleable__control:checked~label.sk-toggleable__label {\n",
              "  /* fitted */\n",
              "  background-color: var(--sklearn-color-fitted-level-2);\n",
              "}\n",
              "\n",
              "#sk-container-id-2 div.sk-label label.sk-toggleable__label,\n",
              "#sk-container-id-2 div.sk-label label {\n",
              "  /* The background is the default theme color */\n",
              "  color: var(--sklearn-color-text-on-default-background);\n",
              "}\n",
              "\n",
              "/* On hover, darken the color of the background */\n",
              "#sk-container-id-2 div.sk-label:hover label.sk-toggleable__label {\n",
              "  color: var(--sklearn-color-text);\n",
              "  background-color: var(--sklearn-color-unfitted-level-2);\n",
              "}\n",
              "\n",
              "/* Label box, darken color on hover, fitted */\n",
              "#sk-container-id-2 div.sk-label.fitted:hover label.sk-toggleable__label.fitted {\n",
              "  color: var(--sklearn-color-text);\n",
              "  background-color: var(--sklearn-color-fitted-level-2);\n",
              "}\n",
              "\n",
              "/* Estimator label */\n",
              "\n",
              "#sk-container-id-2 div.sk-label label {\n",
              "  font-family: monospace;\n",
              "  font-weight: bold;\n",
              "  display: inline-block;\n",
              "  line-height: 1.2em;\n",
              "}\n",
              "\n",
              "#sk-container-id-2 div.sk-label-container {\n",
              "  text-align: center;\n",
              "}\n",
              "\n",
              "/* Estimator-specific */\n",
              "#sk-container-id-2 div.sk-estimator {\n",
              "  font-family: monospace;\n",
              "  border: 1px dotted var(--sklearn-color-border-box);\n",
              "  border-radius: 0.25em;\n",
              "  box-sizing: border-box;\n",
              "  margin-bottom: 0.5em;\n",
              "  /* unfitted */\n",
              "  background-color: var(--sklearn-color-unfitted-level-0);\n",
              "}\n",
              "\n",
              "#sk-container-id-2 div.sk-estimator.fitted {\n",
              "  /* fitted */\n",
              "  background-color: var(--sklearn-color-fitted-level-0);\n",
              "}\n",
              "\n",
              "/* on hover */\n",
              "#sk-container-id-2 div.sk-estimator:hover {\n",
              "  /* unfitted */\n",
              "  background-color: var(--sklearn-color-unfitted-level-2);\n",
              "}\n",
              "\n",
              "#sk-container-id-2 div.sk-estimator.fitted:hover {\n",
              "  /* fitted */\n",
              "  background-color: var(--sklearn-color-fitted-level-2);\n",
              "}\n",
              "\n",
              "/* Specification for estimator info (e.g. \"i\" and \"?\") */\n",
              "\n",
              "/* Common style for \"i\" and \"?\" */\n",
              "\n",
              ".sk-estimator-doc-link,\n",
              "a:link.sk-estimator-doc-link,\n",
              "a:visited.sk-estimator-doc-link {\n",
              "  float: right;\n",
              "  font-size: smaller;\n",
              "  line-height: 1em;\n",
              "  font-family: monospace;\n",
              "  background-color: var(--sklearn-color-background);\n",
              "  border-radius: 1em;\n",
              "  height: 1em;\n",
              "  width: 1em;\n",
              "  text-decoration: none !important;\n",
              "  margin-left: 0.5em;\n",
              "  text-align: center;\n",
              "  /* unfitted */\n",
              "  border: var(--sklearn-color-unfitted-level-1) 1pt solid;\n",
              "  color: var(--sklearn-color-unfitted-level-1);\n",
              "}\n",
              "\n",
              ".sk-estimator-doc-link.fitted,\n",
              "a:link.sk-estimator-doc-link.fitted,\n",
              "a:visited.sk-estimator-doc-link.fitted {\n",
              "  /* fitted */\n",
              "  border: var(--sklearn-color-fitted-level-1) 1pt solid;\n",
              "  color: var(--sklearn-color-fitted-level-1);\n",
              "}\n",
              "\n",
              "/* On hover */\n",
              "div.sk-estimator:hover .sk-estimator-doc-link:hover,\n",
              ".sk-estimator-doc-link:hover,\n",
              "div.sk-label-container:hover .sk-estimator-doc-link:hover,\n",
              ".sk-estimator-doc-link:hover {\n",
              "  /* unfitted */\n",
              "  background-color: var(--sklearn-color-unfitted-level-3);\n",
              "  color: var(--sklearn-color-background);\n",
              "  text-decoration: none;\n",
              "}\n",
              "\n",
              "div.sk-estimator.fitted:hover .sk-estimator-doc-link.fitted:hover,\n",
              ".sk-estimator-doc-link.fitted:hover,\n",
              "div.sk-label-container:hover .sk-estimator-doc-link.fitted:hover,\n",
              ".sk-estimator-doc-link.fitted:hover {\n",
              "  /* fitted */\n",
              "  background-color: var(--sklearn-color-fitted-level-3);\n",
              "  color: var(--sklearn-color-background);\n",
              "  text-decoration: none;\n",
              "}\n",
              "\n",
              "/* Span, style for the box shown on hovering the info icon */\n",
              ".sk-estimator-doc-link span {\n",
              "  display: none;\n",
              "  z-index: 9999;\n",
              "  position: relative;\n",
              "  font-weight: normal;\n",
              "  right: .2ex;\n",
              "  padding: .5ex;\n",
              "  margin: .5ex;\n",
              "  width: min-content;\n",
              "  min-width: 20ex;\n",
              "  max-width: 50ex;\n",
              "  color: var(--sklearn-color-text);\n",
              "  box-shadow: 2pt 2pt 4pt #999;\n",
              "  /* unfitted */\n",
              "  background: var(--sklearn-color-unfitted-level-0);\n",
              "  border: .5pt solid var(--sklearn-color-unfitted-level-3);\n",
              "}\n",
              "\n",
              ".sk-estimator-doc-link.fitted span {\n",
              "  /* fitted */\n",
              "  background: var(--sklearn-color-fitted-level-0);\n",
              "  border: var(--sklearn-color-fitted-level-3);\n",
              "}\n",
              "\n",
              ".sk-estimator-doc-link:hover span {\n",
              "  display: block;\n",
              "}\n",
              "\n",
              "/* \"?\"-specific style due to the `<a>` HTML tag */\n",
              "\n",
              "#sk-container-id-2 a.estimator_doc_link {\n",
              "  float: right;\n",
              "  font-size: 1rem;\n",
              "  line-height: 1em;\n",
              "  font-family: monospace;\n",
              "  background-color: var(--sklearn-color-background);\n",
              "  border-radius: 1rem;\n",
              "  height: 1rem;\n",
              "  width: 1rem;\n",
              "  text-decoration: none;\n",
              "  /* unfitted */\n",
              "  color: var(--sklearn-color-unfitted-level-1);\n",
              "  border: var(--sklearn-color-unfitted-level-1) 1pt solid;\n",
              "}\n",
              "\n",
              "#sk-container-id-2 a.estimator_doc_link.fitted {\n",
              "  /* fitted */\n",
              "  border: var(--sklearn-color-fitted-level-1) 1pt solid;\n",
              "  color: var(--sklearn-color-fitted-level-1);\n",
              "}\n",
              "\n",
              "/* On hover */\n",
              "#sk-container-id-2 a.estimator_doc_link:hover {\n",
              "  /* unfitted */\n",
              "  background-color: var(--sklearn-color-unfitted-level-3);\n",
              "  color: var(--sklearn-color-background);\n",
              "  text-decoration: none;\n",
              "}\n",
              "\n",
              "#sk-container-id-2 a.estimator_doc_link.fitted:hover {\n",
              "  /* fitted */\n",
              "  background-color: var(--sklearn-color-fitted-level-3);\n",
              "}\n",
              "</style><div id=\"sk-container-id-2\" class=\"sk-top-container\"><div class=\"sk-text-repr-fallback\"><pre>GridSearchCV(estimator=RandomForestClassifier(random_state=42), n_jobs=-1,\n",
              "             param_grid={&#x27;max_depth&#x27;: [10, 20, 30],\n",
              "                         &#x27;max_features&#x27;: [&#x27;log2&#x27;, &#x27;sqrt&#x27;, 0.5],\n",
              "                         &#x27;min_samples_leaf&#x27;: [1, 2, 5],\n",
              "                         &#x27;min_samples_split&#x27;: [2, 5, 10],\n",
              "                         &#x27;n_estimators&#x27;: [100, 200, 500]})</pre><b>In a Jupyter environment, please rerun this cell to show the HTML representation or trust the notebook. <br />On GitHub, the HTML representation is unable to render, please try loading this page with nbviewer.org.</b></div><div class=\"sk-container\" hidden><div class=\"sk-item sk-dashed-wrapped\"><div class=\"sk-label-container\"><div class=\"sk-label fitted sk-toggleable\"><input class=\"sk-toggleable__control sk-hidden--visually\" id=\"sk-estimator-id-4\" type=\"checkbox\" ><label for=\"sk-estimator-id-4\" class=\"sk-toggleable__label fitted sk-toggleable__label-arrow\"><div><div>GridSearchCV</div></div><div><a class=\"sk-estimator-doc-link fitted\" rel=\"noreferrer\" target=\"_blank\" href=\"https://scikit-learn.org/1.6/modules/generated/sklearn.model_selection.GridSearchCV.html\">?<span>Documentation for GridSearchCV</span></a><span class=\"sk-estimator-doc-link fitted\">i<span>Fitted</span></span></div></label><div class=\"sk-toggleable__content fitted\"><pre>GridSearchCV(estimator=RandomForestClassifier(random_state=42), n_jobs=-1,\n",
              "             param_grid={&#x27;max_depth&#x27;: [10, 20, 30],\n",
              "                         &#x27;max_features&#x27;: [&#x27;log2&#x27;, &#x27;sqrt&#x27;, 0.5],\n",
              "                         &#x27;min_samples_leaf&#x27;: [1, 2, 5],\n",
              "                         &#x27;min_samples_split&#x27;: [2, 5, 10],\n",
              "                         &#x27;n_estimators&#x27;: [100, 200, 500]})</pre></div> </div></div><div class=\"sk-parallel\"><div class=\"sk-parallel-item\"><div class=\"sk-item\"><div class=\"sk-label-container\"><div class=\"sk-label fitted sk-toggleable\"><input class=\"sk-toggleable__control sk-hidden--visually\" id=\"sk-estimator-id-5\" type=\"checkbox\" ><label for=\"sk-estimator-id-5\" class=\"sk-toggleable__label fitted sk-toggleable__label-arrow\"><div><div>best_estimator_: RandomForestClassifier</div></div></label><div class=\"sk-toggleable__content fitted\"><pre>RandomForestClassifier(max_depth=20, max_features=&#x27;log2&#x27;, min_samples_leaf=2,\n",
              "                       min_samples_split=5, random_state=42)</pre></div> </div></div><div class=\"sk-serial\"><div class=\"sk-item\"><div class=\"sk-estimator fitted sk-toggleable\"><input class=\"sk-toggleable__control sk-hidden--visually\" id=\"sk-estimator-id-6\" type=\"checkbox\" ><label for=\"sk-estimator-id-6\" class=\"sk-toggleable__label fitted sk-toggleable__label-arrow\"><div><div>RandomForestClassifier</div></div><div><a class=\"sk-estimator-doc-link fitted\" rel=\"noreferrer\" target=\"_blank\" href=\"https://scikit-learn.org/1.6/modules/generated/sklearn.ensemble.RandomForestClassifier.html\">?<span>Documentation for RandomForestClassifier</span></a></div></label><div class=\"sk-toggleable__content fitted\"><pre>RandomForestClassifier(max_depth=20, max_features=&#x27;log2&#x27;, min_samples_leaf=2,\n",
              "                       min_samples_split=5, random_state=42)</pre></div> </div></div></div></div></div></div></div></div></div>"
            ]
          },
          "metadata": {},
          "execution_count": 24
        }
      ]
    },
    {
      "cell_type": "code",
      "source": [
        "# Visualização dos atributos ótimos da GridSearch\n",
        "print('Atributos Ótimos:\\n') # Título\n",
        "print(f'Hiperparâmetros: {rf_grid.best_params_}') # Melhores hiperparâmetros encontrados\n",
        "print(f'Score da Validação Cruzada: {rf_grid.best_score_:.4f}') # Melhor score da validação cruzada"
      ],
      "metadata": {
        "colab": {
          "base_uri": "https://localhost:8080/"
        },
        "id": "-9RyX2_QHiVy",
        "outputId": "ef4280e9-b7fa-49f7-a81e-46b3fbad3adb"
      },
      "execution_count": null,
      "outputs": [
        {
          "output_type": "stream",
          "name": "stdout",
          "text": [
            "Atributos Ótimos:\n",
            "\n",
            "Hiperparâmetros: {'max_depth': 20, 'max_features': 'log2', 'min_samples_leaf': 2, 'min_samples_split': 5, 'n_estimators': 100}\n",
            "Score da Validação Cruzada: 0.8671\n"
          ]
        }
      ]
    },
    {
      "cell_type": "markdown",
      "source": [
        "### 4.3. Predição e avaliação do modelo"
      ],
      "metadata": {
        "id": "_FwyMgVk860O"
      }
    },
    {
      "cell_type": "markdown",
      "source": [
        "Ainda com o auxílio do *GridSearch*⁽³⁾, separa-se o modelo já treinado com os valores ótimos, dentre os fornecidos, na variável \"*best*\", a fim de avaliar a sua predição com as métricas Acurácia, *Precision*, *Recall* e *F1-score*."
      ],
      "metadata": {
        "id": "S8YlVNxkMuIn"
      }
    },
    {
      "cell_type": "code",
      "source": [
        "# Otimização e predição do modelo\n",
        "rf_best = rf_grid.best_estimator_ # Modelo com os parâmetros ótimos\n",
        "rf_preds = rf_best.predict(x_test) # Predição do modelo com os parâmetros ótimos"
      ],
      "metadata": {
        "id": "4IF9K2PUHl8i"
      },
      "execution_count": null,
      "outputs": []
    },
    {
      "cell_type": "code",
      "source": [
        "# Visualização das métricas de avaliação\n",
        "print(f\"Acurácia:  {accuracy_score(y_test, rf_preds):.4f}\") # Acurácia\n",
        "print(f\"Precision: {precision_score(y_test, rf_preds):.4f}\") # Precision\n",
        "print(f\"Recall:    {recall_score(y_test, rf_preds):.4f}\") # Recall\n",
        "print(f\"F1-score:  {f1_score(y_test, rf_preds):.4f}\") # F1-score"
      ],
      "metadata": {
        "colab": {
          "base_uri": "https://localhost:8080/"
        },
        "id": "h0fX2dGUHrBF",
        "outputId": "b39cd10d-e589-4a5d-b9c9-b08feec9b643"
      },
      "execution_count": null,
      "outputs": [
        {
          "output_type": "stream",
          "name": "stdout",
          "text": [
            "Acurácia:  0.8682\n",
            "Precision: 0.8081\n",
            "Recall:    0.6314\n",
            "F1-score:  0.7089\n"
          ]
        }
      ]
    },
    {
      "cell_type": "markdown",
      "source": [
        "### 4.4. Matriz de Confusão"
      ],
      "metadata": {
        "id": "M6fZZVC89DnG"
      }
    },
    {
      "cell_type": "markdown",
      "source": [
        "A matriz de confusão é uma ferramenta que permite uma visualização simplificada da comparação entre os valores previstos pelo modelo (*Predicted label*) e os esperados (*True label*) por meio de quadrantes. Aqui, ela é gerada através das bibliotecas *Matplotlib* e *scikit-learn*."
      ],
      "metadata": {
        "id": "oAo4gSfyPJkM"
      }
    },
    {
      "cell_type": "code",
      "source": [
        "# Tamanho do conjunto de teste\n",
        "print(f\"Test Size: {len(x_test)}\")\n",
        "\n",
        "# Matriz de confusão\n",
        "cm = confusion_matrix(y_test, rf_preds)\n",
        "disp = ConfusionMatrixDisplay(confusion_matrix=cm, display_labels=['<= 50K', '> 50K'])\n",
        "disp.plot(cmap=plt.cm.Blues)\n",
        "plt.title(f\"Matriz de Confusão da Random Forest\")\n",
        "plt.grid(False)\n",
        "plt.show()"
      ],
      "metadata": {
        "colab": {
          "base_uri": "https://localhost:8080/",
          "height": 489
        },
        "id": "pAFparcuMPG3",
        "outputId": "05c4799a-9f5a-4550-a666-1454ca26e7b0"
      },
      "execution_count": null,
      "outputs": [
        {
          "output_type": "stream",
          "name": "stdout",
          "text": [
            "Test Size: 4984\n"
          ]
        },
        {
          "output_type": "display_data",
          "data": {
            "text/plain": [
              "<Figure size 640x480 with 2 Axes>"
            ],
            "image/png": "[encoded data removed]"
          },
          "metadata": {}
        }
      ]
    },
    {
      "cell_type": "markdown",
      "source": [
        "Após análise da matriz de confusão gerada para o desempenho do *Random Forest*, é perceptível como o modelo teve um número considerável de acertos, principalmente no que tange aos labels de renda inferior à 50K (quadrante superior esquedo)."
      ],
      "metadata": {
        "id": "QCd2tEGZSEhZ"
      }
    },
    {
      "cell_type": "markdown",
      "source": [
        "### 4.5. Gráfico de Importâncias"
      ],
      "metadata": {
        "id": "jUUa9YW-9IRu"
      }
    },
    {
      "cell_type": "markdown",
      "source": [
        "O gráfico de importâncias é uma ferramenta que permite uma visualização simplificada da importância de cada atributo na tomada de decisões do modelo. Para isso, utiliza-se dos dados numéricos de importância gerados após o *GridSearch*⁽⁴⁾."
      ],
      "metadata": {
        "id": "TB9imeLmRiaD"
      }
    },
    {
      "cell_type": "code",
      "source": [
        "# Ordenando os elementos\n",
        "indices = np.argsort(rf_best.feature_importances_)[::-1] # Ordena os índices de forma decrescente\n",
        "sorted_features = x_train.columns[indices] # Ordena os nomes\n",
        "sorted_importances = rf_best.feature_importances_[indices] # Ordena as importâncias\n",
        "\n",
        "# Plotando gráfico de importâncias\n",
        "plt.figure(figsize=(12, 5))\n",
        "plt.title(\"Importância dos Features para Random Forest\")\n",
        "plt.barh(range(len(sorted_features)), sorted_importances, align='center')\n",
        "plt.yticks(range(len(sorted_features)), sorted_features)\n",
        "plt.xlabel(\"Importância\")\n",
        "plt.ylabel(\"Atributos\")\n",
        "plt.gca().invert_yaxis()\n",
        "plt.tight_layout()\n",
        "plt.grid()\n",
        "plt.show()"
      ],
      "metadata": {
        "colab": {
          "base_uri": "https://localhost:8080/",
          "height": 459
        },
        "id": "DyvsCjigXjQ_",
        "outputId": "483e1933-3220-4d8a-859b-72cf30a5f2d8"
      },
      "execution_count": null,
      "outputs": [
        {
          "output_type": "display_data",
          "data": {
            "text/plain": [
              "<Figure size 1200x500 with 1 Axes>"
            ],
            "image/png": "[encoded data removed]"
          },
          "metadata": {}
        }
      ]
    },
    {
      "cell_type": "markdown",
      "source": [
        "Aqui, é perceptível que atributos como \"ganho de capital\" e \"relação familiar\" tiveram grande impacto, enquanto atributos como \"raça\" e \"país de origem\" tiveram pequeno impacto na tomada de decisões do *Random Forest*, considerando os parâmetros definidos nesse contexto."
      ],
      "metadata": {
        "id": "kBEteA6CSTU3"
      }
    },
    {
      "cell_type": "markdown",
      "source": [
        "## **5. Conclusão**"
      ],
      "metadata": {
        "id": "4nZkS0QF7ewV"
      }
    },
    {
      "cell_type": "markdown",
      "source": [
        "Após o tratamento do *dataset* abordado, o qual sofreu imputação pela moda e codificação, e treinamento de ambos os modelos de árvore elaborados utilizando-se da Validação Cruzada com a ferramenta *GridSearch*⁽⁴⁾, e análise das métricas de avaliação, matrizes de confusão e gráficos de importância, foi possível extrair informações relevantes acerca dos modelos.\n",
        "\n",
        "Assim, os dois foram capazes de produzir resultados próximos e satisfatórios no que tange a acurácia, a qual atingiu um valor de aproximadamente 86% em ambos. Na matriz de confusão, ficou claro que os dois modelos tiveram uma facilidade significativamente maior para identificar indivíduos com a renda menor ou igual a 50 mil dólares em comparação com indivíduos com a renda maior que essa."
      ],
      "metadata": {
        "id": "1jXaGgFKXVLp"
      }
    },
    {
      "cell_type": "markdown",
      "source": [
        "## **6. Referências**"
      ],
      "metadata": {
        "id": "OAfTKLJq6b8r"
      }
    },
    {
      "cell_type": "markdown",
      "source": [
        "- 1. **Adult Census Income**. Kaggle. Disponível em: https://www.kaggle.com/datasets/uciml/adult-census-income. Acesso em: 11 maio 2025.\n",
        "- 2. **What is a decision tree?**. International Business Machines Corporation. Disponível em: https://www.ibm.com/think/topics/decision-trees#:~:text=A%20decision%20tree%20is%20a,internal%20nodes%20and%20leaf%20nodes. Acesso em: 11 maio 2025.\n",
        "- 3. BEHESHTI, N. **Random Forest Regression**. towards data science. Disponível em: https://towardsdatascience.com/random-forest-regression-5f605132d19d/. Acesso em: 11 maio 2025.\n",
        "- 4. OKAMURA, S. **GridSearchCV for Beginners**. towards data science. Disponível em: https://towardsdatascience.com/gridsearchcv-for-beginners-db48a90114ee/. Acesso em: 11 maio 2025."
      ],
      "metadata": {
        "id": "hVT_QWlZ6fPp"
      }
    }
  ]
}